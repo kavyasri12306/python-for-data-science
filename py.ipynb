{
  "nbformat": 4,
  "nbformat_minor": 0,
  "metadata": {
    "colab": {
      "provenance": []
    },
    "kernelspec": {
      "name": "python3",
      "display_name": "Python 3"
    },
    "language_info": {
      "name": "python"
    }
  },
  "cells": [
    {
      "cell_type": "code",
      "execution_count": 2,
      "metadata": {
        "colab": {
          "base_uri": "https://localhost:8080/"
        },
        "id": "r_crtobKR7Ou",
        "outputId": "8875e821-af7c-41c2-d854-6b5e6a8451b0"
      },
      "outputs": [
        {
          "output_type": "stream",
          "name": "stdout",
          "text": [
            "hi\n",
            "h\n"
          ]
        }
      ],
      "source": [
        "v=input()\n",
        "vow=['a','e','i','o','u']\n",
        "k=''.join([i for i in v if i not in vow])\n",
        "print(k)"
      ]
    },
    {
      "cell_type": "code",
      "source": [
        "n=input()\n",
        "vow=['a','e','i','o','u']\n",
        "l=''.join([i for i in n if i in vow])\n",
        "print(l)\n"
      ],
      "metadata": {
        "colab": {
          "base_uri": "https://localhost:8080/"
        },
        "id": "akyRWyJ0WI3N",
        "outputId": "d298db2d-8cb8-4be3-d6d7-7652e1e73d58"
      },
      "execution_count": 1,
      "outputs": [
        {
          "output_type": "stream",
          "name": "stdout",
          "text": [
            "data\n",
            "aa\n"
          ]
        }
      ]
    },
    {
      "cell_type": "code",
      "source": [
        "s=[10,11,50,34]\n",
        "l1=[]\n",
        "for i in s:\n",
        "  k=str(s.index(i))\n",
        "  l1.append(int(str(i)+k))\n",
        "print(l1)"
      ],
      "metadata": {
        "colab": {
          "base_uri": "https://localhost:8080/"
        },
        "id": "GdDCH8lCdTWE",
        "outputId": "5d3af4b2-b558-4a86-869b-962fb8076547"
      },
      "execution_count": 3,
      "outputs": [
        {
          "output_type": "stream",
          "name": "stdout",
          "text": [
            "[100, 111, 502, 343]\n"
          ]
        }
      ]
    },
    {
      "cell_type": "code",
      "source": [
        "s=input()\n",
        "print(s.upper())\n",
        "print(s.lower())"
      ],
      "metadata": {
        "colab": {
          "base_uri": "https://localhost:8080/"
        },
        "id": "Vu3gFKIvdc6H",
        "outputId": "54448ef9-12c2-4c35-c6c0-e95bac612f35"
      },
      "execution_count": 4,
      "outputs": [
        {
          "output_type": "stream",
          "name": "stdout",
          "text": [
            "data science\n",
            "DATA SCIENCE\n",
            "data science\n"
          ]
        }
      ]
    },
    {
      "cell_type": "code",
      "source": [
        "n='united states'\n",
        "v=\"\"\n",
        "for i in n:\n",
        "  if i==' ':\n",
        "    pass\n",
        "  else:\n",
        "    v=v+i\n",
        "print(v)"
      ],
      "metadata": {
        "colab": {
          "base_uri": "https://localhost:8080/"
        },
        "id": "R8NeoWqUdry_",
        "outputId": "211b5895-58ae-4e31-bfff-608c79ebe28d"
      },
      "execution_count": 7,
      "outputs": [
        {
          "output_type": "stream",
          "name": "stdout",
          "text": [
            "unitedstates\n"
          ]
        }
      ]
    },
    {
      "cell_type": "code",
      "source": [
        "s='I am learning data science'\n",
        "k=s.split()\n",
        "l=[]\n",
        "for i in k:\n",
        "  k=i\n",
        "  g=''\n",
        "  for j in range(len(i)):\n",
        "    if j ==0 or j==len(i)-1:\n",
        "      g=g+i[j].upper()\n",
        "    else:\n",
        "      g=g+i[j]\n",
        "  l.append(g)\n",
        "print(l)"
      ],
      "metadata": {
        "colab": {
          "base_uri": "https://localhost:8080/"
        },
        "id": "C42i_QtNd1nX",
        "outputId": "cd61aa76-799f-4402-b099-702c12692f5a"
      },
      "execution_count": 9,
      "outputs": [
        {
          "output_type": "stream",
          "name": "stdout",
          "text": [
            "['I', 'AM', 'LearninG', 'DatA', 'SciencE']\n"
          ]
        }
      ]
    },
    {
      "cell_type": "code",
      "source": [
        "s=input()\n",
        "c=0\n",
        "for i in s:\n",
        "  c=c+1\n",
        "print(c)"
      ],
      "metadata": {
        "colab": {
          "base_uri": "https://localhost:8080/"
        },
        "id": "VhOtkjYUefR_",
        "outputId": "2e374516-2a3d-4ec8-b426-3365028de2f5"
      },
      "execution_count": 10,
      "outputs": [
        {
          "output_type": "stream",
          "name": "stdout",
          "text": [
            "data science\n",
            "12\n"
          ]
        }
      ]
    },
    {
      "cell_type": "code",
      "source": [
        "for i in range(1,50):\n",
        "  if i%2 !=0 and i%3 !=0:\n",
        "    print(i)\n",
        "  else:\n",
        "    pass"
      ],
      "metadata": {
        "colab": {
          "base_uri": "https://localhost:8080/"
        },
        "id": "paZTvZJbe2Dv",
        "outputId": "b7d61d03-4138-4375-d47a-50bc688b14fa"
      },
      "execution_count": 11,
      "outputs": [
        {
          "output_type": "stream",
          "name": "stdout",
          "text": [
            "1\n",
            "5\n",
            "7\n",
            "11\n",
            "13\n",
            "17\n",
            "19\n",
            "23\n",
            "25\n",
            "29\n",
            "31\n",
            "35\n",
            "37\n",
            "41\n",
            "43\n",
            "47\n",
            "49\n"
          ]
        }
      ]
    }
  ]
}